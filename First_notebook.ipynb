{
    "cells": [
        {
            "metadata": {},
            "cell_type": "markdown",
            "source": "## Test"
        },
        {
            "metadata": {},
            "cell_type": "code",
            "source": "\nimport os, types\nimport pandas as pd\nfrom botocore.client import Config\nimport ibm_boto3\n\ndef __iter__(self): return 0\n\n# @hidden_cell\n# The following code accesses a file in your IBM Cloud Object Storage. It includes your credentials.\n# You might want to remove those credentials before you share the notebook.\nclient_073f1b8aebf843ea85d914f649c6646f = ibm_boto3.client(service_name='s3',\n    ibm_api_key_id='czxE5heVv_arbRftsT0QlIqXztuo-2DBBK-_acq_6QWF',\n    ibm_auth_endpoint=\"https://iam.cloud.ibm.com/oidc/token\",\n    config=Config(signature_version='oauth'),\n    endpoint_url='https://s3.private.us.cloud-object-storage.appdomain.cloud')\n\nbody = client_073f1b8aebf843ea85d914f649c6646f.get_object(Bucket='dsibm-donotdelete-pr-ueyce0wgkxehqu',Key='USPop.xlsx')['Body']\n\ndf_data_0 = pd.read_excel(body.read())\ndf_data_0.head()\n",
            "execution_count": 1,
            "outputs": [
                {
                    "output_type": "execute_result",
                    "execution_count": 1,
                    "data": {
                        "text/plain": "     151868 2114  \n0  153982.0   2411\n1  156393.0   2563\n2  158956.0   2928\n3  161884.0   3185\n4  165069.0   3019",
                        "text/html": "<div>\n<style scoped>\n    .dataframe tbody tr th:only-of-type {\n        vertical-align: middle;\n    }\n\n    .dataframe tbody tr th {\n        vertical-align: top;\n    }\n\n    .dataframe thead th {\n        text-align: right;\n    }\n</style>\n<table border=\"1\" class=\"dataframe\">\n  <thead>\n    <tr style=\"text-align: right;\">\n      <th></th>\n      <th>151868</th>\n      <th>2114</th>\n    </tr>\n  </thead>\n  <tbody>\n    <tr>\n      <th>0</th>\n      <td>153982.0</td>\n      <td>2411</td>\n    </tr>\n    <tr>\n      <th>1</th>\n      <td>156393.0</td>\n      <td>2563</td>\n    </tr>\n    <tr>\n      <th>2</th>\n      <td>158956.0</td>\n      <td>2928</td>\n    </tr>\n    <tr>\n      <th>3</th>\n      <td>161884.0</td>\n      <td>3185</td>\n    </tr>\n    <tr>\n      <th>4</th>\n      <td>165069.0</td>\n      <td>3019</td>\n    </tr>\n  </tbody>\n</table>\n</div>"
                    },
                    "metadata": {}
                }
            ]
        },
        {
            "metadata": {},
            "cell_type": "code",
            "source": "",
            "execution_count": null,
            "outputs": []
        }
    ],
    "metadata": {
        "kernelspec": {
            "name": "python3",
            "display_name": "Python 3.9",
            "language": "python"
        },
        "language_info": {
            "name": "python",
            "version": "3.9.7",
            "mimetype": "text/x-python",
            "codemirror_mode": {
                "name": "ipython",
                "version": 3
            },
            "pygments_lexer": "ipython3",
            "nbconvert_exporter": "python",
            "file_extension": ".py"
        }
    },
    "nbformat": 4,
    "nbformat_minor": 1
}